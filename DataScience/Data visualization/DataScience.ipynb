{
 "cells": [
  {
   "cell_type": "markdown",
   "metadata": {},
   "source": [
    "# CONSUMO DE ALCOHOL EN JÓVENES"
   ]
  },
  {
   "cell_type": "markdown",
   "metadata": {
    "collapsed": true
   },
   "source": [
    "# Objetivo 1\n",
    "### Realizar un análisis exploratorio con el que explicar los datos y conclusiones que se puedan sacar de ellos. "
   ]
  },
  {
   "cell_type": "code",
   "execution_count": 1,
   "metadata": {
    "collapsed": false
   },
   "outputs": [],
   "source": [
    "import os\n",
    "script_dir = os.path.dirname('/home/gparreno/DataScience/BEEVA/DataScience.ipynb')\n",
    "rel_path = '/home/gparreno/DataScience/BEEVA/Dataset_alcohol_portugues.csv'\n",
    "rel_path_2 = '/home/gparreno/DataScience/BEEVA/Dataset_alcohol_matematicas.csv'\n",
    "abs_file_path = os.path.join(script_dir,rel_path, rel_path_2)"
   ]
  },
  {
   "cell_type": "markdown",
   "metadata": {},
   "source": [
    "### Análisis Exploratorio"
   ]
  },
  {
   "cell_type": "code",
   "execution_count": 2,
   "metadata": {
    "collapsed": false
   },
   "outputs": [],
   "source": [
    "## Paso 0. Preparación de los datos .\n",
    "#Importación de las librerías necesarias.\n",
    "#Separación del Set de datos en Clase de matemáticas y clase de portugués\n",
    "\n",
    "import pandas as pd\n",
    "import plotly.plotly as py\n",
    "from plotly.graph_objs import *\n",
    "import plotly.tools as tls\n",
    "import plotly\n",
    "import datetime\n",
    "\n",
    "import plotly.plotly as py\n",
    "import plotly.graph_objs as go\n",
    "from datetime import datetime \n",
    "plotly.tools.set_credentials_file(username='GParreno_2', api_key='xytV2ilTyBjWUjdSjQ8Q')\n",
    "\n",
    "#df Clase de mateméticas y df2 clase de portugués\n",
    "df = pd.read_csv('/home/gparreno/DataScience/BEEVA/Dataset_alcohol_portugues.csv')\n",
    "df2 = pd.read_csv('/home/gparreno/DataScience/BEEVA/Dataset_alcohol_matematicas.csv')\n",
    "#df.info()\n"
   ]
  },
  {
   "cell_type": "code",
   "execution_count": 3,
   "metadata": {
    "collapsed": false,
    "scrolled": true
   },
   "outputs": [
    {
     "data": {
      "text/html": [
       "<div>\n",
       "<table border=\"1\" class=\"dataframe\">\n",
       "  <thead>\n",
       "    <tr style=\"text-align: right;\">\n",
       "      <th></th>\n",
       "      <th>school</th>\n",
       "      <th>sex</th>\n",
       "      <th>age</th>\n",
       "      <th>address</th>\n",
       "      <th>famsize</th>\n",
       "      <th>Pstatus</th>\n",
       "      <th>Medu</th>\n",
       "      <th>Fedu</th>\n",
       "      <th>Mjob</th>\n",
       "      <th>Fjob</th>\n",
       "      <th>...</th>\n",
       "      <th>famrel.1</th>\n",
       "      <th>freetime.1</th>\n",
       "      <th>goout.1</th>\n",
       "      <th>Dalc.1</th>\n",
       "      <th>Walc.1</th>\n",
       "      <th>health.1</th>\n",
       "      <th>absences.1</th>\n",
       "      <th>G1</th>\n",
       "      <th>G2</th>\n",
       "      <th>G3</th>\n",
       "    </tr>\n",
       "  </thead>\n",
       "  <tbody>\n",
       "    <tr>\n",
       "      <th>0</th>\n",
       "      <td>GP</td>\n",
       "      <td>F</td>\n",
       "      <td>18</td>\n",
       "      <td>U</td>\n",
       "      <td>GT3</td>\n",
       "      <td>A</td>\n",
       "      <td>4</td>\n",
       "      <td>4</td>\n",
       "      <td>at_home</td>\n",
       "      <td>teacher</td>\n",
       "      <td>...</td>\n",
       "      <td>4</td>\n",
       "      <td>3</td>\n",
       "      <td>4</td>\n",
       "      <td>1</td>\n",
       "      <td>1</td>\n",
       "      <td>3</td>\n",
       "      <td>4</td>\n",
       "      <td>0</td>\n",
       "      <td>11</td>\n",
       "      <td>11</td>\n",
       "    </tr>\n",
       "    <tr>\n",
       "      <th>1</th>\n",
       "      <td>GP</td>\n",
       "      <td>F</td>\n",
       "      <td>17</td>\n",
       "      <td>U</td>\n",
       "      <td>GT3</td>\n",
       "      <td>T</td>\n",
       "      <td>1</td>\n",
       "      <td>1</td>\n",
       "      <td>at_home</td>\n",
       "      <td>other</td>\n",
       "      <td>...</td>\n",
       "      <td>5</td>\n",
       "      <td>3</td>\n",
       "      <td>3</td>\n",
       "      <td>1</td>\n",
       "      <td>1</td>\n",
       "      <td>3</td>\n",
       "      <td>2</td>\n",
       "      <td>9</td>\n",
       "      <td>11</td>\n",
       "      <td>11</td>\n",
       "    </tr>\n",
       "    <tr>\n",
       "      <th>2</th>\n",
       "      <td>GP</td>\n",
       "      <td>F</td>\n",
       "      <td>15</td>\n",
       "      <td>U</td>\n",
       "      <td>LE3</td>\n",
       "      <td>T</td>\n",
       "      <td>1</td>\n",
       "      <td>1</td>\n",
       "      <td>at_home</td>\n",
       "      <td>other</td>\n",
       "      <td>...</td>\n",
       "      <td>4</td>\n",
       "      <td>3</td>\n",
       "      <td>2</td>\n",
       "      <td>2</td>\n",
       "      <td>3</td>\n",
       "      <td>3</td>\n",
       "      <td>6</td>\n",
       "      <td>12</td>\n",
       "      <td>13</td>\n",
       "      <td>12</td>\n",
       "    </tr>\n",
       "  </tbody>\n",
       "</table>\n",
       "<p>3 rows × 45 columns</p>\n",
       "</div>"
      ],
      "text/plain": [
       "  school sex  age address famsize Pstatus  Medu  Fedu     Mjob     Fjob ...  \\\n",
       "0     GP   F   18       U     GT3       A     4     4  at_home  teacher ...   \n",
       "1     GP   F   17       U     GT3       T     1     1  at_home    other ...   \n",
       "2     GP   F   15       U     LE3       T     1     1  at_home    other ...   \n",
       "\n",
       "  famrel.1 freetime.1  goout.1  Dalc.1  Walc.1 health.1 absences.1  G1  G2  G3  \n",
       "0        4          3        4       1       1        3          4   0  11  11  \n",
       "1        5          3        3       1       1        3          2   9  11  11  \n",
       "2        4          3        2       2       3        3          6  12  13  12  \n",
       "\n",
       "[3 rows x 45 columns]"
      ]
     },
     "execution_count": 3,
     "metadata": {},
     "output_type": "execute_result"
    }
   ],
   "source": [
    "df.head(3)"
   ]
  },
  {
   "cell_type": "markdown",
   "metadata": {},
   "source": [
    "# Objetivo 1"
   ]
  },
  {
   "cell_type": "markdown",
   "metadata": {},
   "source": [
    "### Realizar un análisis exploratorio con el que explicar los datos y conclusiones que se puedan sacar de ellos. "
   ]
  },
  {
   "cell_type": "markdown",
   "metadata": {
    "collapsed": true
   },
   "source": [
    "### Se han realizado los siguientes análisis\n",
    "    #1.Análisis genérico y número de usuarios por edad y clase\n",
    "    #2.Estudio segmentado por grupo de edad representativo y consumo diario y durante fin de semana\n",
    "    #3.Consumo de Alcohol en fines de semana por escuela y clase \n",
    "    #4.Consumo de Alcohol por edades durante el fin de semana \n",
    "    #5.Consumo de Alcohol por edades durante la semana\n",
    "    #6.Análisis de Heavy drinkers por edades y momento de consumo\n",
    "\n"
   ]
  },
  {
   "cell_type": "markdown",
   "metadata": {},
   "source": [
    "###                      1.Análisis genérico y número de usuarios por edad y clase"
   ]
  },
  {
   "cell_type": "code",
   "execution_count": 4,
   "metadata": {
    "collapsed": false
   },
   "outputs": [],
   "source": [
    "#Alumnos\n",
    "len(df) + len(df2)\n",
    "\n",
    "#Clase de matemáticas\n",
    "age_range_por= df['age'].value_counts()\n",
    "age_mean_por= df['age'].mean()\n",
    "\n",
    "#Clase de portugués\n",
    "age_range_mat= df2['age'].value_counts()\n",
    "age_mean_mat= df2['age'].mean()\n",
    "\n",
    "#Gabriel Pereira\n",
    "type_school = ['GP']\n",
    "pupil_school_por = df.loc[df['school'].isin(type_school)]\n",
    "pupil_school_mat = df2.loc[df['school'].isin(type_school)]\n",
    "\n",
    "\n",
    "#Mousinho da Silveira\n",
    "type_school2 = ['MS']\n",
    "pupil_school_por = df.loc[df['school'].isin(type_school2)]\n",
    "pupil_school_mat2 = df2.loc[df['school'].isin(type_school2)]\n",
    "\n"
   ]
  },
  {
   "cell_type": "code",
   "execution_count": 5,
   "metadata": {
    "collapsed": false
   },
   "outputs": [
    {
     "data": {
      "text/plain": [
       "0"
      ]
     },
     "execution_count": 5,
     "metadata": {},
     "output_type": "execute_result"
    }
   ],
   "source": [
    "\n",
    "age_range_por\n",
    "age_mean_por\n",
    "age_range_mat\n",
    "age_mean_mat\n",
    "\n",
    "pupil_school_por.shape[0]\n",
    "pupil_school_mat.shape[0]\n",
    "\n",
    "pupil_school_por.shape[0]\n",
    "pupil_school_mat2.shape[0]\n"
   ]
  },
  {
   "cell_type": "markdown",
   "metadata": {},
   "source": [
    "\n",
    "\n",
    "### CONCLUSIÓN\n",
    "    #1.El estudio de ha llevado a cabo con 1044 alumnos,649 del instituto/escuela Gabriel Pereira y 395 en instituto Mousinho da Silveira .Hay menos alumnos en Mousinho da Silveira que en Gabrial Pepereira \n",
    "    #2.La mayoría de los usuarios de éste estudio en la clase de portugués tienen 17 años y en matemáticas 16 años y la media de edad es 16,7 y 16,9 respectivamente  \n",
    "\n"
   ]
  },
  {
   "cell_type": "markdown",
   "metadata": {},
   "source": [
    "### 2.Estudio segmentado por grupo de edad representativo.\n",
    "Al llevar a cabo el primer análisis se identifica el grupo de edad \"17 años\" como el más representativo dentro del dataset de la clase de portugués y cómo edad media (16.9) de la clase de matemáticas. Por ello, se propone un análisis más pormenorizado de éste segmento de edad .\n",
    "Además se indentifican tres tipos de atributos diferentes para estudio \n",
    "                #Familiares - address, famsize, PStatus, Medu, Fedu, Mjob, Fjob, famsup, paid, famrel \n",
    "                #Académicos - school,reason, guardian, studytime, failures, schoolsup, nursery\n",
    "                #Individuales - sex, age,traveltime, activities, hihger, Internet, romantic,freetime, goout, Dalc, Walc, health, abcenses"
   ]
  },
  {
   "cell_type": "code",
   "execution_count": 6,
   "metadata": {
    "collapsed": false
   },
   "outputs": [],
   "source": [
    "#Concatenamos los datasets por un momento para hacer el estudio \n",
    "df3 = df.append(df2)\n",
    "#df3.info()"
   ]
  },
  {
   "cell_type": "code",
   "execution_count": 9,
   "metadata": {
    "collapsed": false
   },
   "outputs": [],
   "source": [
    "dt17 = df3.loc[df['age']== 17 ]\n",
    "#Estudio de individuos por edad y sexo \n",
    "#Individuales\n",
    "go_out=dt17.groupby(['goout'])['sex'].nunique()\n",
    "internet=dt17.groupby(['internet'])['sex'].count()\n",
    "free_time=dt17.groupby(['freetime'])['sex'].count()\n",
    "\n",
    "#Académicos\n",
    "school_a=dt17.groupby(['school'])['sex'].count()\n",
    "time_study=dt17.groupby(['studytime'])['sex'].count()\n",
    "failure=dt17.groupby(['failures'])['sex'].size()\n",
    "\n",
    "#Familiares\n",
    "family_support=dt17.groupby(['famsup'])['sex'].count()\n",
    "mom_work=dt17.groupby(['Mjob'])['sex'].nunique()\n",
    "father_work=dt17.groupby(['Fjob'])['sex'].nunique()\n",
    "\n",
    "#Habitos de consumo alcoholico\n",
    "weekends=dt17.groupby(['Walc'])['sex'].count()\n",
    "daily=dt17.groupby(['Dalc'])['sex'].count()\n"
   ]
  },
  {
   "cell_type": "code",
   "execution_count": 10,
   "metadata": {
    "collapsed": false
   },
   "outputs": [
    {
     "data": {
      "text/html": [
       "<iframe id=\"igraph\" scrolling=\"no\" style=\"border:none;\" seamless=\"seamless\" src=\"https://plot.ly/~GParreno_2/126.embed\" height=\"525px\" width=\"100%\"></iframe>"
      ],
      "text/plain": [
       "<plotly.tools.PlotlyDisplay object>"
      ]
     },
     "execution_count": 10,
     "metadata": {},
     "output_type": "execute_result"
    }
   ],
   "source": [
    "#Se hace un ploteado significativo de atributos elegidos de las categorías y el consumo de alcohol\n",
    "fig = {\n",
    "    'data': [\n",
    "        {\n",
    "            'labels': ['1-poco', '2-moderado', '3-medio', '4-bastante', '5-mucho'],\n",
    "            'values': [go_out[0:1], go_out[1:2], go_out[2:3], go_out[3:4], go_out[4:5]],\n",
    "            'type': 'pie',\n",
    "            'name': 'Tiempo libre después de la escuela',\n",
    "            'marker': {'colors': ['rgb(237, 178, 0)',\n",
    "                                  'rgb(216, 130, 28)',\n",
    "                                  'rgb(192, 106, 5)',\n",
    "                                  'rgb(130, 75, 9)',\n",
    "                                  'rgb(96, 65, 27)']},\n",
    "            'domain': {'x': [0, .48],\n",
    "                       'y': [0, .49]},\n",
    "            'hoverinfo':'label+percent+name',\n",
    "            'hole': .4,\n",
    "            'textinfo':'Tiempo libre'\n",
    "        },\n",
    "        {\n",
    "            'labels': ['Menos de 2 horas', 'Entre 2 y 5 horas', 'Entre 5 y 10 horas', 'Más de 10 horas'],\n",
    "            'values': [time_study[0:1], time_study[1:2], time_study[2:3], time_study[3:4]],\n",
    "            'marker': {'colors': ['rgb(237, 178, 0)',\n",
    "                                  'rgb(216, 130, 28)',\n",
    "                                  'rgb(192, 106, 5)',\n",
    "                                  'rgb(130, 75, 9)']},\n",
    "            'type': 'pie',\n",
    "            'name': 'Tiempo estudio medio semanal',\n",
    "            'domain': {'x': [.52, 1],\n",
    "                       'y': [0, .49]},\n",
    "            'hoverinfo':'label+percent+name',\n",
    "            'hole': .4 ,\n",
    "            'textinfo':'Tiempo Estudio'\n",
    "\n",
    "        },\n",
    "        {\n",
    "            'labels': ['1-muy poco', '2-moderado', '3-medio', '4-bastante', '5-mucho'],\n",
    "            'values': [weekends[0:1], weekends[1:2], weekends[2:3], weekends[3:4], weekends[4:5]],\n",
    "            'marker': {'colors': ['rgb(237, 178, 0)',\n",
    "                                  'rgb(216, 130, 28)',\n",
    "                                  'rgb(192, 106, 5)',\n",
    "                                  'rgb(130, 75, 9)',\n",
    "                                  'rgb(96, 65, 27)']},\n",
    "            'type': 'pie',\n",
    "            'name': 'Consumo de Alcohol en fines de semana',\n",
    "            'domain': {'x': [0, .48],\n",
    "                       'y': [.51, 1]},\n",
    "            'hoverinfo':'label+percent+name',\n",
    "            'hole': .4,\n",
    "            'textinfo':'Consumo de Alcohol'\n",
    "        },\n",
    "        {\n",
    "            'labels': ['1-muy poco', '2-moderado', '3-medio', '4-bastante', '5-mucho'],\n",
    "            'values': [daily[0:1], daily[1:2], daily[2:3], daily[3:4], daily[4:5]],\n",
    "            'marker': {'colors': ['rgb(237, 178, 0)',\n",
    "                                  'rgb(216, 130, 28)',\n",
    "                                  'rgb(192, 106, 5)',\n",
    "                                  'rgb(130, 75, 9)',\n",
    "                                  'rgb(96, 65, 27)']},\n",
    "            'type': 'pie',\n",
    "            'name':'Consumo de Alcohol durante los de semana',\n",
    "            'domain': {'x': [.52, 1],\n",
    "                       'y': [.51, 1]},\n",
    "            'hoverinfo':'label+percent+name',\n",
    "            'hole': .4,\n",
    "            'textinfo':'Consumo de Alcohol'\n",
    "        }\n",
    "    ],\n",
    "    'layout': {'title': 'ESTUDIO DE ATRIBUTOS SIGNIFICATIVOS  Y CONSUMO DE ALCOHOL A LOS 17 AÑOS',\n",
    "               'showlegend': False}\n",
    "}\n",
    "\n",
    "py.iplot(fig)\n"
   ]
  },
  {
   "cell_type": "markdown",
   "metadata": {},
   "source": [
    "# CONCLUSIÓN\n",
    "    #1.El 44,7% de los estudiantes dedican entre 2 y 5 horas al estudio  \n",
    "    #2.La mayoría de los estudiantes beben muy poco a diario y sólo un 1,68% de los estudiantes admite beber  mucho. El consumo moderado de alcohol cambia un 6% de diario a fin de semana y el moderado aumenta del 8,38 % a más del 20 %. \n",
    "    #3.Sin embargo, durante los fines de semana el consumo medio y significativo aumenta considerablemente y el consumo de mucho alcohol pasa del 3,35% al 8,94%\n",
    "    #4.Los hábitos de consumo de alcohol moderado y medio cambian de fin de semana a entre semana \n",
    "\n"
   ]
  },
  {
   "cell_type": "markdown",
   "metadata": {},
   "source": [
    "###                # 3.Consumo de Alcohol en fines de semana por escuela y clase"
   ]
  },
  {
   "cell_type": "code",
   "execution_count": 11,
   "metadata": {
    "collapsed": false
   },
   "outputs": [
    {
     "data": {
      "text/plain": [
       "school  Walc\n",
       "GP      1       141\n",
       "        2        73\n",
       "        3        64\n",
       "        4        45\n",
       "        5        26\n",
       "MS      3        16\n",
       "        2        12\n",
       "        1        10\n",
       "        4         6\n",
       "        5         2\n",
       "Name: Walc, dtype: int64"
      ]
     },
     "execution_count": 11,
     "metadata": {},
     "output_type": "execute_result"
    }
   ],
   "source": [
    "#Gabriel Pereira \n",
    "weekend_alc_por=df.groupby(['school'])['Walc'].value_counts()\n",
    "#Mousinho da Silveira\n",
    "weekend_alc_mat=df2.groupby(['school'])['Walc'].value_counts()\n",
    "weekend_alc_por\n",
    "weekend_alc_mat"
   ]
  },
  {
   "cell_type": "code",
   "execution_count": 12,
   "metadata": {
    "collapsed": false
   },
   "outputs": [
    {
     "data": {
      "text/html": [
       "<iframe id=\"igraph\" scrolling=\"no\" style=\"border:none;\" seamless=\"seamless\" src=\"https://plot.ly/~GParreno_2/2.embed\" height=\"525px\" width=\"100%\"></iframe>"
      ],
      "text/plain": [
       "<plotly.tools.PlotlyDisplay object>"
      ]
     },
     "execution_count": 12,
     "metadata": {},
     "output_type": "execute_result"
    }
   ],
   "source": [
    "name = '.'\n",
    "TypeA = go.Bar(\n",
    "    x=[name],\n",
    "    y=[weekend_alc_por[0]],\n",
    "    marker=dict(\n",
    "        color='rgb(237, 178, 0)',\n",
    "        ),\n",
    "    width=0.3,    \n",
    "    name='Poco'\n",
    ")\n",
    "\n",
    "TypeB = go.Bar(\n",
    "    x=[name],\n",
    "    y=[weekend_alc_por[1]],\n",
    "    marker=dict(\n",
    "        color='rgb(216, 130, 28)',\n",
    "        ),\n",
    "    width=0.3, \n",
    "    name='Moderado'  \n",
    ")\n",
    "\n",
    "TypeC = go.Bar(\n",
    "    x=[name],\n",
    "    y=[weekend_alc_por[2]],\n",
    "    marker=dict(\n",
    "        color='rgb(192, 106, 5)',\n",
    "        ),\n",
    "    width=0.3,     \n",
    "    name='Medio'\n",
    ")\n",
    "\n",
    "TypeD = go.Bar(\n",
    "    x=[name],\n",
    "    y=[weekend_alc_por[3]],\n",
    "    marker=dict(\n",
    "        color='rgb(130, 75, 9)',\n",
    "        ),\n",
    "    width=0.3, \n",
    "    name='Bastante'\n",
    ")\n",
    "\n",
    "TypeE = go.Bar(\n",
    "    x=[name],\n",
    "    y=[weekend_alc_por[4]],\n",
    "    marker=dict(\n",
    "        color='rgb(96, 65, 27)',\n",
    "        ),\n",
    "    width=0.3, \n",
    "    name='Mucho')\n",
    "\n",
    "\n",
    "data = [TypeA, TypeB, TypeC, TypeD, TypeE]\n",
    "layout = go.Layout(\n",
    "    title = 'CONSUMO DE ALCOHOL EN FINDES DE SEMANA EN GABRIEL PERERIRA PORTUGUES',\n",
    "    titlefont=dict(\n",
    "        family='Arial, sans-serif',\n",
    "        size=18,\n",
    "        color='black',),\n",
    "    yaxis=dict(\n",
    "        title='USERS',\n",
    "        titlefont=dict(\n",
    "            family='Arial, sans-serif',\n",
    "            size=12,\n",
    "            color='grey')\n",
    "        ),    \n",
    "    barmode='stack'\n",
    ")\n",
    "\n",
    "fig = go.Figure(data=data, layout=layout)\n",
    "py.iplot(fig, filename= 'stacked-bar')\n",
    "\n"
   ]
  },
  {
   "cell_type": "code",
   "execution_count": 13,
   "metadata": {
    "collapsed": false
   },
   "outputs": [
    {
     "data": {
      "text/html": [
       "<iframe id=\"igraph\" scrolling=\"no\" style=\"border:none;\" seamless=\"seamless\" src=\"https://plot.ly/~GParreno_2/2.embed\" height=\"525px\" width=\"100%\"></iframe>"
      ],
      "text/plain": [
       "<plotly.tools.PlotlyDisplay object>"
      ]
     },
     "execution_count": 13,
     "metadata": {},
     "output_type": "execute_result"
    }
   ],
   "source": [
    "name = '.'\n",
    "TypeA = go.Bar(\n",
    "    x=[name],\n",
    "    y=[weekend_alc_por[5]],\n",
    "    marker=dict(\n",
    "        color='rgb(237, 178, 0)',\n",
    "        ),\n",
    "    width=0.3,    \n",
    "    name='Poco'\n",
    ")\n",
    "\n",
    "TypeB = go.Bar(\n",
    "    x=[name],\n",
    "    y=[weekend_alc_por[6]],\n",
    "    marker=dict(\n",
    "        color='rgb(216, 130, 28)',\n",
    "        ),\n",
    "    width=0.3, \n",
    "    name='Moderado'  \n",
    ")\n",
    "\n",
    "TypeC = go.Bar(\n",
    "    x=[name],\n",
    "    y=[weekend_alc_por[7]],\n",
    "    marker=dict(\n",
    "        color='rgb(192, 106, 5)',\n",
    "        ),\n",
    "    width=0.3,     \n",
    "    name='Medio'\n",
    ")\n",
    "\n",
    "TypeD = go.Bar(\n",
    "    x=[name],\n",
    "    y=[weekend_alc_por[8]],\n",
    "    marker=dict(\n",
    "        color='rgb(130, 75, 9)',\n",
    "        ),\n",
    "    width=0.3, \n",
    "    name='Bastante'\n",
    ")\n",
    "\n",
    "TypeE = go.Bar(\n",
    "    x=[name],\n",
    "    y=[weekend_alc_por[9]],\n",
    "    marker=dict(\n",
    "        color='rgb(96, 65, 27)',\n",
    "        ),\n",
    "    width=0.3, \n",
    "    name='Mucho')\n",
    "\n",
    "\n",
    "data = [TypeA, TypeB, TypeC, TypeD, TypeE]\n",
    "layout = go.Layout(\n",
    "    title = 'CONSUMO DE ALCOHOL EN FINDES DE SEMANA EN MOUSINHO DA SILVEIRA PORTUGUES',\n",
    "    titlefont=dict(\n",
    "        family='Arial, sans-serif',\n",
    "        size=18,\n",
    "        color='black',),\n",
    "    yaxis=dict(\n",
    "        title='Alumnos',\n",
    "        titlefont=dict(\n",
    "            family='Arial, sans-serif',\n",
    "            size=12,\n",
    "            color='grey')\n",
    "        ),    \n",
    "    barmode='stack'\n",
    ")\n",
    "\n",
    "fig = go.Figure(data=data, layout=layout)\n",
    "py.iplot(fig, filename= 'stacked-bar')\n",
    "\n"
   ]
  },
  {
   "cell_type": "code",
   "execution_count": 14,
   "metadata": {
    "collapsed": false
   },
   "outputs": [
    {
     "data": {
      "text/html": [
       "<iframe id=\"igraph\" scrolling=\"no\" style=\"border:none;\" seamless=\"seamless\" src=\"https://plot.ly/~GParreno_2/2.embed\" height=\"525px\" width=\"100%\"></iframe>"
      ],
      "text/plain": [
       "<plotly.tools.PlotlyDisplay object>"
      ]
     },
     "execution_count": 14,
     "metadata": {},
     "output_type": "execute_result"
    }
   ],
   "source": [
    "name = '.'\n",
    "TypeA = go.Bar(\n",
    "    x=[name],\n",
    "    y=[weekend_alc_mat[0]],\n",
    "    marker=dict(\n",
    "        color='rgb(237, 178, 0)',\n",
    "        ),\n",
    "    width=0.3,    \n",
    "    name='Poco'\n",
    ")\n",
    "\n",
    "TypeB = go.Bar(\n",
    "    x=[name],\n",
    "    y=[weekend_alc_mat[1]],\n",
    "    marker=dict(\n",
    "        color='rgb(216, 130, 28)',\n",
    "        ),\n",
    "    width=0.3, \n",
    "    name='Moderado'  \n",
    ")\n",
    "\n",
    "TypeC = go.Bar(\n",
    "    x=[name],\n",
    "    y=[weekend_alc_mat[2]],\n",
    "    marker=dict(\n",
    "        color='rgb(192, 106, 5)',\n",
    "        ),\n",
    "    width=0.3,     \n",
    "    name='Medio'\n",
    ")\n",
    "\n",
    "TypeD = go.Bar(\n",
    "    x=[name],\n",
    "    y=[weekend_alc_mat[3]],\n",
    "    marker=dict(\n",
    "        color='rgb(130, 75, 9)',\n",
    "        ),\n",
    "    width=0.3, \n",
    "    name='Bastante'\n",
    ")\n",
    "\n",
    "TypeE = go.Bar(\n",
    "    x=[name],\n",
    "    y=[weekend_alc_mat[4]],\n",
    "    marker=dict(\n",
    "        color='rgb(96, 65, 27)',\n",
    "        ),\n",
    "    width=0.3, \n",
    "    name='Mucho')\n",
    "\n",
    "\n",
    "data = [TypeA, TypeB, TypeC, TypeD, TypeE]\n",
    "layout = go.Layout(\n",
    "    title = 'CONSUMO DE ALCOHOL EN FINDES DE SEMANA EN GABRIEL PERERIRA MATEMATICAS',\n",
    "    titlefont=dict(\n",
    "        family='Arial, sans-serif',\n",
    "        size=18,\n",
    "        color='black',),\n",
    "    yaxis=dict(\n",
    "        title='Alumnos',\n",
    "        titlefont=dict(\n",
    "            family='Arial, sans-serif',\n",
    "            size=12,\n",
    "            color='grey')\n",
    "        ),    \n",
    "    barmode='stack'\n",
    ")\n",
    "\n",
    "fig = go.Figure(data=data, layout=layout)\n",
    "py.iplot(fig, filename= 'stacked-bar')\n"
   ]
  },
  {
   "cell_type": "code",
   "execution_count": 15,
   "metadata": {
    "collapsed": false
   },
   "outputs": [
    {
     "data": {
      "text/html": [
       "<iframe id=\"igraph\" scrolling=\"no\" style=\"border:none;\" seamless=\"seamless\" src=\"https://plot.ly/~GParreno_2/2.embed\" height=\"525px\" width=\"100%\"></iframe>"
      ],
      "text/plain": [
       "<plotly.tools.PlotlyDisplay object>"
      ]
     },
     "execution_count": 15,
     "metadata": {},
     "output_type": "execute_result"
    }
   ],
   "source": [
    "name = '.'\n",
    "TypeA = go.Bar(\n",
    "    x=[name],\n",
    "    y=[weekend_alc_mat[5]],\n",
    "    marker=dict(\n",
    "        color='rgb(237, 178, 0)',\n",
    "        ),\n",
    "    width=0.3,    \n",
    "    name='Poco'\n",
    ")\n",
    "\n",
    "TypeB = go.Bar(\n",
    "    x=[name],\n",
    "    y=[weekend_alc_mat[6]],\n",
    "    marker=dict(\n",
    "        color='rgb(216, 130, 28)',\n",
    "        ),\n",
    "    width=0.3, \n",
    "    name='Moderado'  \n",
    ")\n",
    "\n",
    "TypeC = go.Bar(\n",
    "    x=[name],\n",
    "    y=[weekend_alc_mat[7]],\n",
    "    marker=dict(\n",
    "        color='rgb(192, 106, 5)',\n",
    "        ),\n",
    "    width=0.3,     \n",
    "    name='Medio'\n",
    ")\n",
    "\n",
    "TypeD = go.Bar(\n",
    "    x=[name],\n",
    "    y=[weekend_alc_mat[8]],\n",
    "    marker=dict(\n",
    "        color='rgb(130, 75, 9)',\n",
    "        ),\n",
    "    width=0.3, \n",
    "    name='Bastante'\n",
    ")\n",
    "\n",
    "TypeE = go.Bar(\n",
    "    x=[name],\n",
    "    y=[weekend_alc_mat[9]],\n",
    "    marker=dict(\n",
    "        color='rgb(96, 65, 27)',\n",
    "        ),\n",
    "    width=0.3, \n",
    "    name='Mucho')\n",
    "\n",
    "\n",
    "data = [TypeA, TypeB, TypeC, TypeD, TypeE]\n",
    "layout = go.Layout(\n",
    "    title = 'CONSUMO DE ALCOHOL EN FINDES DE SEMANA EN MOUSINHO DA SILVEIRA MATEMATICAS',\n",
    "    titlefont=dict(\n",
    "        family='Arial, sans-serif',\n",
    "        size=18,\n",
    "        color='black',),\n",
    "    yaxis=dict(\n",
    "        title='Alumnos',\n",
    "        titlefont=dict(\n",
    "            family='Arial, sans-serif',\n",
    "            size=12,\n",
    "            color='grey')\n",
    "        ),    \n",
    "    barmode='stack'\n",
    ")\n",
    "\n",
    "fig = go.Figure(data=data, layout=layout)\n",
    "py.iplot(fig, filename= 'stacked-bar')\n",
    "\n"
   ]
  },
  {
   "cell_type": "markdown",
   "metadata": {},
   "source": [
    "# CONCLUSIÓN\n",
    "    #1.En proporción, el consumo de alcohol durante los fines de semana en las clases y escuelas es parecido\n",
    "    #2.No se ha podido observar un patrón en el que se beba más por pertenecia a una escuela o en una clase"
   ]
  },
  {
   "cell_type": "markdown",
   "metadata": {},
   "source": [
    "###                # 4.Consumo de Alcohol en fines de semana por edades durante el fin de semana\n"
   ]
  },
  {
   "cell_type": "code",
   "execution_count": 16,
   "metadata": {
    "collapsed": false
   },
   "outputs": [
    {
     "data": {
      "text/html": [
       "<iframe id=\"igraph\" scrolling=\"no\" style=\"border:none;\" seamless=\"seamless\" src=\"https://plot.ly/~GParreno_2/128.embed\" height=\"525px\" width=\"100%\"></iframe>"
      ],
      "text/plain": [
       "<plotly.tools.PlotlyDisplay object>"
      ]
     },
     "execution_count": 16,
     "metadata": {},
     "output_type": "execute_result"
    }
   ],
   "source": [
    "weekend_alcohol = df.groupby(['age'])['Walc'].value_counts()\n",
    "weekend_alcohol\n",
    "\n",
    "fig = {\n",
    "    'data': [\n",
    "        {\n",
    "            'labels': ['1-very low', '2', '3', '4', '5-very high'],\n",
    "            'values': [weekend_alcohol[:1], weekend_alcohol[1:2], weekend_alcohol[2:3], weekend_alcohol[3:4], weekend_alcohol[4:5]],\n",
    "            'type': 'pie',\n",
    "            'name': '15 años',\n",
    "            'marker': {'colors': ['rgb(237, 178, 0)',\n",
    "                                  'rgb(216, 130, 28)',\n",
    "                                  'rgb(192, 106, 5)',\n",
    "                                  'rgb(130, 75, 9)',\n",
    "                                  'rgb(96, 65, 27)']},\n",
    "            'domain': {'x': [0, .48],\n",
    "                       'y': [0, .49]},\n",
    "            'hoverinfo':'label+percent+name',\n",
    "            'hole': .4 ,\n",
    "            'textinfo':'15'\n",
    "        },\n",
    "        {\n",
    "            'labels': ['1-very low', '2', '3', '4', '5-very high'],\n",
    "            'values': [weekend_alcohol[5:6], weekend_alcohol[6:7], weekend_alcohol[7:8], weekend_alcohol[8:9], weekend_alcohol[9:10]],\n",
    "            'marker': {'colors': ['rgb(237, 178, 0)',\n",
    "                                  'rgb(216, 130, 28)',\n",
    "                                  'rgb(192, 106, 5)',\n",
    "                                  'rgb(130, 75, 9)',\n",
    "                                  'rgb(96, 65, 27)']},\n",
    "            'type': 'pie',\n",
    "            'name': '16 años',\n",
    "            'domain': {'x': [.52, 1],\n",
    "                       'y': [0, .49]},\n",
    "            'hoverinfo':'label+percent+name',\n",
    "            'hole': .4 ,\n",
    "            'textinfo':'16'\n",
    "\n",
    "        },\n",
    "        {\n",
    "            'labels': ['1-very low', '2', '3', '4', '5-very high'],\n",
    "            'values': [weekend_alcohol[11:12], weekend_alcohol[12:13], weekend_alcohol[13:14], weekend_alcohol[14:15], weekend_alcohol[15:16]],\n",
    "            'marker': {'colors': ['rgb(237, 178, 0)',\n",
    "                                  'rgb(216, 130, 28)',\n",
    "                                  'rgb(192, 106, 5)',\n",
    "                                  'rgb(130, 75, 9)',\n",
    "                                  'rgb(96, 65, 27)']},\n",
    "            'type': 'pie',\n",
    "            'name': '17 años',\n",
    "            'domain': {'x': [0, .48],\n",
    "                       'y': [.51, 1]},\n",
    "            'hoverinfo':'label+percent+name',\n",
    "            'hole': .4 ,\n",
    "            'textinfo':'17'\n",
    "        },\n",
    "        {\n",
    "            'labels': ['1-very low', '2', '3', '4', '5-very high'],\n",
    "            'values': [weekend_alcohol[17:18], weekend_alcohol[18:19], weekend_alcohol[19:20], weekend_alcohol[20:21], weekend_alcohol[22:23]],\n",
    "            'marker': {'colors': ['rgb(237, 178, 0)',\n",
    "                                  'rgb(216, 130, 28)',\n",
    "                                  'rgb(192, 106, 5)',\n",
    "                                  'rgb(130, 75, 9)',\n",
    "                                  'rgb(96, 65, 27)']},\n",
    "            'type': 'pie',\n",
    "            'name':'18 años',\n",
    "            'domain': {'x': [.52, 1],\n",
    "                       'y': [.51, 1]},\n",
    "            'hoverinfo':'label+percent+name',\n",
    "            'hole': .4 ,\n",
    "            'textinfo':'18'\n",
    "        }\n",
    "    ],\n",
    "    'layout': {'title': 'CONSUMO DE ALCOHOL POR EDADES DURANTE EL FIN DE SEMANA 15/18 AÑOS',\n",
    "               'showlegend': False,\n",
    "              }\n",
    "}\n",
    "\n",
    "py.iplot(fig)\n",
    "\n",
    "\n"
   ]
  },
  {
   "cell_type": "code",
   "execution_count": 17,
   "metadata": {
    "collapsed": false
   },
   "outputs": [
    {
     "data": {
      "text/html": [
       "<iframe id=\"igraph\" scrolling=\"no\" style=\"border:none;\" seamless=\"seamless\" src=\"https://plot.ly/~GParreno_2/130.embed\" height=\"525px\" width=\"100%\"></iframe>"
      ],
      "text/plain": [
       "<plotly.tools.PlotlyDisplay object>"
      ]
     },
     "execution_count": 17,
     "metadata": {},
     "output_type": "execute_result"
    }
   ],
   "source": [
    "fig = {\n",
    "    'data': [\n",
    "        {\n",
    "            'labels': ['1-very low', '2', '3', '4', '5-very high'],\n",
    "            'values': [weekend_alcohol[23:24], weekend_alcohol[24:25], weekend_alcohol[25:26], weekend_alcohol[26:27]],\n",
    "            'type': 'pie',\n",
    "            'name': '19 años',\n",
    "            'marker': {'colors': ['rgb(237, 178, 0)',\n",
    "                                  'rgb(216, 130, 28)',\n",
    "                                  'rgb(192, 106, 5)',\n",
    "                                  'rgb(130, 75, 9)',\n",
    "                                  'rgb(96, 65, 27)']},\n",
    "            'domain': {'x': [0, .48],\n",
    "                       'y': [0, .49]},\n",
    "            'hoverinfo':'label+percent+name',\n",
    "            'hole': .4 ,\n",
    "            'textinfo':'none'\n",
    "        },\n",
    "        {\n",
    "            'labels': ['1-very low', '2', '3', '4', '5-very high'],\n",
    "            'values': [weekend_alcohol[27:28], weekend_alcohol[28:29], weekend_alcohol[29:30], weekend_alcohol[30:31]],\n",
    "            'marker': {'colors': ['rgb(237, 178, 0)',\n",
    "                                  'rgb(216, 130, 28)',\n",
    "                                  'rgb(192, 106, 5)',\n",
    "                                  'rgb(130, 75, 9)',\n",
    "                                  'rgb(96, 65, 27)']},\n",
    "            'type': 'pie',\n",
    "            'name': '20 años',\n",
    "            'domain': {'x': [.52, 1],\n",
    "                       'y': [0, .49]},\n",
    "            'hoverinfo':'label+percent+name',\n",
    "            'hole': .4 ,\n",
    "            'textinfo':'none'\n",
    "\n",
    "        },\n",
    "        {\n",
    "            'labels': ['1-very low', '2', '3', '4', '5-very high'],\n",
    "            'values': [weekend_alcohol[31:32], weekend_alcohol[32:33]],\n",
    "            'marker': {'colors': ['rgb(237, 178, 0)',\n",
    "                                  'rgb(216, 130, 28)']},\n",
    "            'type': 'pie',\n",
    "            'name': '21 años',\n",
    "            'domain': {'x': [0, .48],\n",
    "                       'y': [.51, 1]},\n",
    "            'hoverinfo':'label+percent+name',\n",
    "            'hole': .4 ,\n",
    "            'textinfo':'none'\n",
    "        },\n",
    "        {\n",
    "            'labels': ['1-very low', '2', '3', '4', '5-very high'],\n",
    "            'values': [weekend_alcohol[33:34]],\n",
    "            'marker': {'colors': ['rgb(237, 178, 0']},\n",
    "            'type': 'pie',\n",
    "            'name':'22 años',\n",
    "            'domain': {'x': [.52, 1],\n",
    "                       'y': [.51, 1]},\n",
    "            'hoverinfo':'label+percent+name',\n",
    "            'hole': .4 ,\n",
    "            'textinfo':'none'\n",
    "        }\n",
    "    ],\n",
    "    'layout': {'title': 'CONSUMO DE ALCOHOL POR EDADES DURANTE EL FIN DE SEMANA 19/22 AÑOS',\n",
    "               'showlegend': False}\n",
    "}\n",
    "\n",
    "py.iplot(fig)\n",
    "\n"
   ]
  },
  {
   "cell_type": "markdown",
   "metadata": {},
   "source": [
    "# CONCLUSIÓN\n",
    "    #1.Se han establecido 2 subgrupos para el estudio de la evolución del alcohol por edades. El primer grupo (15-18) muestra la siguientes características\n",
    "                        #1.2 El consumo de alcohol es poco entre la mitad de los jóvenes cuando tienen 15 años y la proporción entre poco y moderado es similar (17,9%)\n",
    "                        #1.3 A lo largo de los 16 años aumenta el consumo moderado de alcohol\n",
    "                        #1.4 A los 17 años existe la mayor proporción de consumo alto de alcohol ( 28,2% ) y un equilibrio entre el consumo de poco y moderado.\n",
    "                        #1.5 A los 18 aumenta el consumo moderado pero se equilibra \n",
    "    #2.La cantidad de datos de la que se dispone para el segundo subgrupo es menor (19-22 años). De todas maneras, se observa de manera remarcable \n",
    "                        #2.1 Desaparece al abuso de alcohol y o se equilibra a partir de los 18 años\n",
    "                        #2.2 Hay una persona de 22 años que está fuera del segmento de edad y parece tener hábitos de abuso del alcohol \n",
    "    \n",
    "    "
   ]
  },
  {
   "cell_type": "markdown",
   "metadata": {},
   "source": [
    "###                # 3.Consumo de Alcohol en fines de semana por edades durante la semana"
   ]
  },
  {
   "cell_type": "code",
   "execution_count": 18,
   "metadata": {
    "collapsed": false
   },
   "outputs": [
    {
     "ename": "NameError",
     "evalue": "name 'daily_alcohol' is not defined",
     "output_type": "error",
     "traceback": [
      "\u001b[0;31m---------------------------------------------------------------------------\u001b[0m",
      "\u001b[0;31mNameError\u001b[0m                                 Traceback (most recent call last)",
      "\u001b[0;32m<ipython-input-18-c36b6cdc7014>\u001b[0m in \u001b[0;36m<module>\u001b[0;34m()\u001b[0m\n\u001b[0;32m----> 1\u001b[0;31m \u001b[0mdaily_alcohol\u001b[0m\u001b[0;34m\u001b[0m\u001b[0m\n\u001b[0m",
      "\u001b[0;31mNameError\u001b[0m: name 'daily_alcohol' is not defined"
     ]
    }
   ],
   "source": [
    "daily_alcohol"
   ]
  },
  {
   "cell_type": "code",
   "execution_count": null,
   "metadata": {
    "collapsed": false
   },
   "outputs": [],
   "source": [
    "daily_alcohol = df.groupby(['age'])['Dalc'].value_counts()\n",
    "\n",
    "fig = {\n",
    "    'data': [\n",
    "        {\n",
    "            'labels': ['1-very low', '2', '3', '4', '5-very high'],\n",
    "            'values': [81, 22, 7, 1, 1],\n",
    "            'type': 'pie',\n",
    "            'name': '15 años',\n",
    "            'marker': {'colors': ['rgb(237, 178, 0)',\n",
    "                                  'rgb(216, 130, 28)',\n",
    "                                  'rgb(192, 106, 5)',\n",
    "                                  'rgb(130, 75, 9)',\n",
    "                                  'rgb(96, 65, 27)']},\n",
    "            'domain': {'x': [0, .48],\n",
    "                       'y': [0, .49]},\n",
    "            'hoverinfo':'label+percent+name',\n",
    "            'textinfo':'none'\n",
    "        },\n",
    "        {\n",
    "            'labels': ['1-very low', '2', '3', '4', '5-very high'],\n",
    "            'values': [130, 33, 8, 3, 3],\n",
    "            'marker': {'colors': ['rgb(237, 178, 0)',\n",
    "                                  'rgb(216, 130, 28)',\n",
    "                                  'rgb(192, 106, 5)',\n",
    "                                  'rgb(130, 75, 9)',\n",
    "                                  'rgb(96, 65, 27)']},\n",
    "            'type': 'pie',\n",
    "            'name': '16 años',\n",
    "            'domain': {'x': [.52, 1],\n",
    "                       'y': [0, .49]},\n",
    "            'hoverinfo':'label+percent+name',\n",
    "            'textinfo':'none'\n",
    "\n",
    "        },\n",
    "        {\n",
    "            'labels': ['1-very low', '2', '3', '4', '5-very high'],\n",
    "            'values': [119, 36, 15, 6, 3],\n",
    "            'marker': {'colors': ['rgb(237, 178, 0)',\n",
    "                                  'rgb(216, 130, 28)',\n",
    "                                  'rgb(192, 106, 5)',\n",
    "                                  'rgb(130, 75, 9)',\n",
    "                                  'rgb(96, 65, 27)']},\n",
    "            'type': 'pie',\n",
    "            'name': '17 años',\n",
    "            'domain': {'x': [0, .48],\n",
    "                       'y': [.51, 1]},\n",
    "            'hoverinfo':'label+percent+name',\n",
    "            'textinfo':'none'\n",
    "        },\n",
    "        {\n",
    "            'labels': ['1-very low', '2', '3', '4', '5-very high'],\n",
    "            'values': [96, 25, 8, 6, 5],\n",
    "            'marker': {'colors': ['rgb(237, 178, 0)',\n",
    "                                  'rgb(216, 130, 28)',\n",
    "                                  'rgb(192, 106, 5)',\n",
    "                                  'rgb(130, 75, 9)',\n",
    "                                  'rgb(96, 65, 27)']},\n",
    "            'type': 'pie',\n",
    "            'name':'18 años',\n",
    "            'domain': {'x': [.52, 1],\n",
    "                       'y': [.51, 1]},\n",
    "            'hoverinfo':'label+percent+name',\n",
    "            'textinfo':'none'\n",
    "        }\n",
    "    ],\n",
    "    'layout': {'title': 'CONSUMO DE ALCOHOL POR EDADES DURANTE SEMANA 15/18 AÑOS',\n",
    "               'showlegend': False}\n",
    "}\n",
    "\n",
    "py.iplot(fig)\n"
   ]
  },
  {
   "cell_type": "markdown",
   "metadata": {},
   "source": [
    "# CONCLUSIÓN\n",
    "    #1.Se ha estudiado el subgrupo de 15 a 18 años estableciéndose las siguientes conclusiones\n",
    "                        #1.2 El consumo de alcohol es poco entre lod días de semana y se establece que entre en torno al 70% de los alumnos bebe poco\n",
    "                        #1.3 El consumo moderado de alcohol también se mantiene constante durante semana\n",
    "                        #1.4 A los 18 años aparece la muestra más representativa de alto consumo de alcohol con un 3,58 % \n"
   ]
  },
  {
   "cell_type": "markdown",
   "metadata": {},
   "source": [
    "###                # 6.Análisis de Heavy Drinkers por edades y momentos de consumo"
   ]
  },
  {
   "cell_type": "markdown",
   "metadata": {},
   "source": [
    "#### FIN DE SEMANA "
   ]
  },
  {
   "cell_type": "code",
   "execution_count": 19,
   "metadata": {
    "collapsed": false
   },
   "outputs": [],
   "source": [
    "#Miramos datos para hallar un posible estudio de correlaciones: \n",
    "    #la relación que existe entre los heavy drinkers y la salida y el tiempo libre\n",
    "    #la relación que existe entre los heavy drinkers y el tiempo de estudio y la relación con la familia\n",
    "\n",
    "Heavy_drinker = [ 4, 5 ]"
   ]
  },
  {
   "cell_type": "code",
   "execution_count": 20,
   "metadata": {
    "collapsed": false
   },
   "outputs": [
    {
     "data": {
      "text/plain": [
       "studytime  famrel\n",
       "1          5         6\n",
       "           4         4\n",
       "           2         2\n",
       "           1         1\n",
       "2          5         3\n",
       "           3         2\n",
       "           4         2\n",
       "           2         1\n",
       "3          4         2\n",
       "4          1         4\n",
       "           2         1\n",
       "Name: famrel, dtype: int64"
      ]
     },
     "execution_count": 20,
     "metadata": {},
     "output_type": "execute_result"
    }
   ],
   "source": [
    "dt15 = df3.loc[df3['age']== 15 ]\n",
    "HD15 = dt15.loc[df['Walc'].isin(Heavy_drinker)]\n",
    "HD15.groupby(['goout'])['freetime'].value_counts()\n",
    "HD15.groupby(['studytime'])['famrel'].value_counts()\n"
   ]
  },
  {
   "cell_type": "code",
   "execution_count": 21,
   "metadata": {
    "collapsed": false
   },
   "outputs": [
    {
     "data": {
      "text/plain": [
       "studytime  famrel\n",
       "1          4         14\n",
       "           3          9\n",
       "           5          7\n",
       "2          4         16\n",
       "           5          5\n",
       "           2          3\n",
       "           1          2\n",
       "           3          2\n",
       "3          3          2\n",
       "           4          1\n",
       "           5          1\n",
       "Name: famrel, dtype: int64"
      ]
     },
     "execution_count": 21,
     "metadata": {},
     "output_type": "execute_result"
    }
   ],
   "source": [
    "dt16 = df3.loc[df['age']== 16 ]\n",
    "HD16 = dt16.loc[df['Walc'].isin(Heavy_drinker)]\n",
    "HD16.groupby(['goout'])['freetime'].value_counts()\n",
    "HD16.groupby(['studytime'])['famrel'].value_counts()\n"
   ]
  },
  {
   "cell_type": "code",
   "execution_count": 22,
   "metadata": {
    "collapsed": false
   },
   "outputs": [
    {
     "data": {
      "text/plain": [
       "activities  higher\n",
       "no          yes       22\n",
       "            no         2\n",
       "yes         yes       33\n",
       "            no         4\n",
       "Name: higher, dtype: int64"
      ]
     },
     "execution_count": 22,
     "metadata": {},
     "output_type": "execute_result"
    }
   ],
   "source": [
    "dt17 = df3.loc[df['age']== 17 ]\n",
    "HD17 = dt17.loc[df['Walc'].isin(Heavy_drinker)]\n",
    "HD17.groupby(['goout'])['freetime'].value_counts()\n",
    "HD17.groupby(['studytime'])['famrel'].value_counts()\n",
    "HD17.groupby(['studytime'])['famrel'].mean()\n",
    "HD17.groupby(['activities'])['higher'].value_counts()"
   ]
  },
  {
   "cell_type": "code",
   "execution_count": 23,
   "metadata": {
    "collapsed": false
   },
   "outputs": [
    {
     "data": {
      "text/plain": [
       "studytime  famrel\n",
       "1          4          9\n",
       "           3          8\n",
       "           5          6\n",
       "           2          2\n",
       "2          4         10\n",
       "           3          4\n",
       "           5          4\n",
       "           2          1\n",
       "3          3          2\n",
       "           4          2\n",
       "           5          2\n",
       "4          5          2\n",
       "           4          1\n",
       "Name: famrel, dtype: int64"
      ]
     },
     "execution_count": 23,
     "metadata": {},
     "output_type": "execute_result"
    }
   ],
   "source": [
    "dt18 = df3.loc[df['age']== 18 ]\n",
    "HD18 = dt18.loc[df['Walc'].isin(Heavy_drinker)]\n",
    "x=HD18.groupby(['goout'])['freetime'].value_counts()\n",
    "y=HD18.groupby(['studytime'])['famrel'].value_counts()\n",
    "z=HD18.groupby(['studytime'])['famrel'].mean()\n",
    "g=HD18.groupby(['activities'])['higher'].value_counts()\n",
    "y"
   ]
  },
  {
   "cell_type": "markdown",
   "metadata": {
    "collapsed": true
   },
   "source": [
    "# CONCLUSIÓN\n",
    "    #1.Se ha estudiado el subgrupo de 15 a 18 años estableciéndose las siguientes conclusiones\n",
    "                        #1.1 De los 16 heavy drinkers de 15 años, la mayoría tiene un tiempo libre normal y sale mucho.La mayoría estudia poco aunque tiene buena relación familiar. Los que más estudian sin embargo tienen peores relaciones familiares \n",
    "                        #1.2 La muestra de alumnos es de 289 alumnos entre los cuales 62 son heavy drinkers.De los 37 heavy drinkers de 16 años, la mayoría tiene tiempo libre y sale bastante.La gran mayoría dedica un tiempo moderado a sus estudios y la relación familiar puede considerarse buena \n",
    "                        #1.3 # De los heavy drinkers de 17 años, la mayoría considera salir bastante y tener bastante tiempo libre. Sin embargo , los que tienen buena relación familiar estudian poco o muy poco y los que peor relacion familiar estudian algo masDe hecho, suelen estudiar de media una hora más .La mayoría realiza actividades extracurriculares y tiene en mente acceder a una educación superior"
   ]
  },
  {
   "cell_type": "markdown",
   "metadata": {
    "collapsed": true
   },
   "source": [
    "# Objetivo 2\n",
    "### Realizar una predicción sobre los valores objectivo (G1,G2 y G3)\n",
    "###Puede realizarse una regresión o ajustar las notas para convertirse en \"aprobado/no aprobado\"\n",
    "###Sistema para predecir las notas de los alumnos en el semestre 1, 2 y en el último semestre \n"
   ]
  },
  {
   "cell_type": "code",
   "execution_count": 24,
   "metadata": {
    "collapsed": false
   },
   "outputs": [
    {
     "name": "stdout",
     "output_type": "stream",
     "text": [
      "0.5\n"
     ]
    },
    {
     "name": "stderr",
     "output_type": "stream",
     "text": [
      "/usr/local/lib/python2.7/dist-packages/sklearn/cross_validation.py:44: DeprecationWarning:\n",
      "\n",
      "This module was deprecated in version 0.18 in favor of the model_selection module into which all the refactored classes and functions are moved. Also note that the interface of the new CV iterators are different from that of this module. This module will be removed in 0.20.\n",
      "\n"
     ]
    }
   ],
   "source": [
    "import random\n",
    "import pandas\n",
    "from sklearn.linear_model import LogisticRegression\n",
    "from sklearn.metrics import accuracy_score\n",
    "from sklearn.utils import check_array\n",
    "from sklearn.cross_validation import train_test_split\n",
    "\n",
    "#Predicción de las notas del último semestre basados en las notas de los dos anteriores \n",
    "train = pandas.read_csv('/home/gparreno/DataScience/BEEVA/Dataset_alcohol_prediction.csv')\n",
    "y, X = train['G3'].fillna(0), train[['G1', 'G2']].fillna(0)\n",
    "X_train, X_test, y_train, y_test = train_test_split(X, y, test_size=0.001, random_state=42)\n",
    "lr= LogisticRegression()\n",
    "lr.fit(X_train, y_train)\n",
    "print(accuracy_score(y_test, lr.predict(X_test)))\n",
    "\n",
    "#y_test = [6]\n",
    "#X_test_2 = [2, 3]\n",
    "#print(accuracy_score(y_test, lr.predict(X_test_2)))"
   ]
  },
  {
   "cell_type": "code",
   "execution_count": 28,
   "metadata": {
    "collapsed": false
   },
   "outputs": [
    {
     "ename": "ValueError",
     "evalue": "The truth value of a DataFrame is ambiguous. Use a.empty, a.bool(), a.item(), a.any() or a.all().",
     "output_type": "error",
     "traceback": [
      "\u001b[0;31m---------------------------------------------------------------------------\u001b[0m",
      "\u001b[0;31mValueError\u001b[0m                                Traceback (most recent call last)",
      "\u001b[0;32m<ipython-input-28-cc70f2a235fa>\u001b[0m in \u001b[0;36m<module>\u001b[0;34m()\u001b[0m\n\u001b[1;32m      4\u001b[0m \u001b[0mrandom\u001b[0m\u001b[0;34m.\u001b[0m\u001b[0mseed\u001b[0m\u001b[0;34m(\u001b[0m\u001b[0;36m42\u001b[0m\u001b[0;34m)\u001b[0m\u001b[0;34m\u001b[0m\u001b[0m\n\u001b[1;32m      5\u001b[0m classifier = learn.LinearClassifier(n_classes=2,\n\u001b[0;32m----> 6\u001b[0;31m                                    feature_columns= X_train)\n\u001b[0m\u001b[1;32m      7\u001b[0m \u001b[0mclassifier\u001b[0m\u001b[0;34m.\u001b[0m\u001b[0mfit\u001b[0m\u001b[0;34m(\u001b[0m\u001b[0mX_train\u001b[0m\u001b[0;34m,\u001b[0m \u001b[0my_train\u001b[0m\u001b[0;34m,\u001b[0m \u001b[0mbatch_size\u001b[0m\u001b[0;34m=\u001b[0m\u001b[0;36m128\u001b[0m\u001b[0;34m,\u001b[0m \u001b[0msteps\u001b[0m\u001b[0;34m=\u001b[0m\u001b[0;36m500\u001b[0m\u001b[0;34m)\u001b[0m\u001b[0;34m\u001b[0m\u001b[0m\n\u001b[1;32m      8\u001b[0m \u001b[0;32mprint\u001b[0m\u001b[0;34m(\u001b[0m\u001b[0maccuracy_score\u001b[0m\u001b[0;34m(\u001b[0m\u001b[0mclassifier\u001b[0m\u001b[0;34m.\u001b[0m\u001b[0mpredict\u001b[0m\u001b[0;34m(\u001b[0m\u001b[0mX_test\u001b[0m\u001b[0;34m)\u001b[0m\u001b[0;34m,\u001b[0m \u001b[0my_test\u001b[0m\u001b[0;34m)\u001b[0m\u001b[0;34m)\u001b[0m\u001b[0;34m\u001b[0m\u001b[0m\n",
      "\u001b[0;32m/usr/local/lib/python2.7/dist-packages/tensorflow/contrib/learn/python/learn/estimators/linear.pyc\u001b[0m in \u001b[0;36m__init__\u001b[0;34m(self, feature_columns, model_dir, n_classes, weight_column_name, optimizer, gradient_clip_norm, enable_centered_bias, _joint_weight, config, feature_engineering_fn)\u001b[0m\n\u001b[1;32m    402\u001b[0m     \u001b[0;31m# TODO(zoy): Give an unsupported error if enable_centered_bias is\u001b[0m\u001b[0;34m\u001b[0m\u001b[0;34m\u001b[0m\u001b[0m\n\u001b[1;32m    403\u001b[0m     \u001b[0;31m#    requested for SDCA once its default changes to False.\u001b[0m\u001b[0;34m\u001b[0m\u001b[0;34m\u001b[0m\u001b[0m\n\u001b[0;32m--> 404\u001b[0;31m     \u001b[0mself\u001b[0m\u001b[0;34m.\u001b[0m\u001b[0m_feature_columns\u001b[0m \u001b[0;34m=\u001b[0m \u001b[0mtuple\u001b[0m\u001b[0;34m(\u001b[0m\u001b[0mfeature_columns\u001b[0m \u001b[0;32mor\u001b[0m \u001b[0;34m[\u001b[0m\u001b[0;34m]\u001b[0m\u001b[0;34m)\u001b[0m\u001b[0;34m\u001b[0m\u001b[0m\n\u001b[0m\u001b[1;32m    405\u001b[0m     \u001b[0;32massert\u001b[0m \u001b[0mself\u001b[0m\u001b[0;34m.\u001b[0m\u001b[0m_feature_columns\u001b[0m\u001b[0;34m\u001b[0m\u001b[0m\n\u001b[1;32m    406\u001b[0m     \u001b[0mself\u001b[0m\u001b[0;34m.\u001b[0m\u001b[0m_optimizer\u001b[0m \u001b[0;34m=\u001b[0m \u001b[0moptimizer\u001b[0m\u001b[0;34m\u001b[0m\u001b[0m\n",
      "\u001b[0;32m/usr/local/lib/python2.7/dist-packages/pandas/core/generic.pyc\u001b[0m in \u001b[0;36m__nonzero__\u001b[0;34m(self)\u001b[0m\n\u001b[1;32m    915\u001b[0m         raise ValueError(\"The truth value of a {0} is ambiguous. \"\n\u001b[1;32m    916\u001b[0m                          \u001b[0;34m\"Use a.empty, a.bool(), a.item(), a.any() or a.all().\"\u001b[0m\u001b[0;34m\u001b[0m\u001b[0m\n\u001b[0;32m--> 917\u001b[0;31m                          .format(self.__class__.__name__))\n\u001b[0m\u001b[1;32m    918\u001b[0m \u001b[0;34m\u001b[0m\u001b[0m\n\u001b[1;32m    919\u001b[0m     \u001b[0m__bool__\u001b[0m \u001b[0;34m=\u001b[0m \u001b[0m__nonzero__\u001b[0m\u001b[0;34m\u001b[0m\u001b[0m\n",
      "\u001b[0;31mValueError\u001b[0m: The truth value of a DataFrame is ambiguous. Use a.empty, a.bool(), a.item(), a.any() or a.all()."
     ]
    }
   ],
   "source": [
    "from tensorflow.contrib import learn\n",
    "import tensorflow as tf\n",
    "import random\n",
    "random.seed(42)\n",
    "classifier = learn.LinearClassifier(n_classes=2,\n",
    "                                   feature_columns= X_train)\n",
    "classifier.fit(X_train, y_train, batch_size=128, steps=500)\n",
    "print(accuracy_score(classifier.predict(X_test), y_test))\n"
   ]
  },
  {
   "cell_type": "code",
   "execution_count": null,
   "metadata": {
    "collapsed": false
   },
   "outputs": [],
   "source": []
  },
  {
   "cell_type": "code",
   "execution_count": null,
   "metadata": {
    "collapsed": true
   },
   "outputs": [],
   "source": []
  },
  {
   "cell_type": "code",
   "execution_count": null,
   "metadata": {
    "collapsed": true
   },
   "outputs": [],
   "source": []
  },
  {
   "cell_type": "code",
   "execution_count": null,
   "metadata": {
    "collapsed": true
   },
   "outputs": [],
   "source": []
  },
  {
   "cell_type": "code",
   "execution_count": null,
   "metadata": {
    "collapsed": true
   },
   "outputs": [],
   "source": []
  },
  {
   "cell_type": "code",
   "execution_count": null,
   "metadata": {
    "collapsed": true
   },
   "outputs": [],
   "source": []
  },
  {
   "cell_type": "code",
   "execution_count": null,
   "metadata": {
    "collapsed": true
   },
   "outputs": [],
   "source": []
  },
  {
   "cell_type": "code",
   "execution_count": null,
   "metadata": {
    "collapsed": true
   },
   "outputs": [],
   "source": []
  }
 ],
 "metadata": {
  "kernelspec": {
   "display_name": "Python 2",
   "language": "python",
   "name": "python2"
  },
  "language_info": {
   "codemirror_mode": {
    "name": "ipython",
    "version": 2
   },
   "file_extension": ".py",
   "mimetype": "text/x-python",
   "name": "python",
   "nbconvert_exporter": "python",
   "pygments_lexer": "ipython2",
   "version": "2.7.12"
  }
 },
 "nbformat": 4,
 "nbformat_minor": 1
}
