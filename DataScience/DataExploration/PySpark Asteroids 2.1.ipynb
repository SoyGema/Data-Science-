{
 "cells": [
  {
   "cell_type": "markdown",
   "metadata": {},
   "source": [
    "## PySpark  2.1 Asteroids exploration "
   ]
  },
  {
   "cell_type": "code",
   "execution_count": 1,
   "metadata": {},
   "outputs": [],
   "source": [
    "from pyspark.sql import SparkSession\n",
    "from pyspark.sql.functions import *\n",
    "\n",
    "#import matplotlib.pyplot as plt\n",
    "#%matplotlib inline\n",
    "\n",
    "spark = SparkSession \\\n",
    "    .builder \\\n",
    "    .appName(\"Python Spark basic example\") \\\n",
    "    .config(\"spark.some.config.option\", \"some-value\") \\\n",
    "    .getOrCreate()"
   ]
  },
  {
   "cell_type": "code",
   "execution_count": 2,
   "metadata": {},
   "outputs": [],
   "source": [
    "data = spark.read.csv(\"Data_Asteroids.csv\")"
   ]
  },
  {
   "cell_type": "code",
   "execution_count": 3,
   "metadata": {},
   "outputs": [
    {
     "data": {
      "text/plain": [
       "[Row(_c0='Emoid', _c1='Epoch', _c2='H', _c3='q', _c4='Q', _c5='Class', _c6='Discovery date'),\n",
       " Row(_c0='0.04968', _c1='2017-02-16', _c2='25', _c3='0.639', _c4='1.067', _c5='Aten', _c6='2017-03-02'),\n",
       " Row(_c0='0.00586', _c1='2017-02-16', _c2='27.6', _c3='0.756', _c4='1.24', _c5='Aten', _c6='2017-02-27'),\n",
       " Row(_c0='0.01912', _c1='2017-02-16', _c2='27.3', _c3='0.81', _c4='1.066', _c5='Aten', _c6='2017-02-24'),\n",
       " Row(_c0='0.00051', _c1='2017-02-16', _c2='22.1', _c3='0.709', _c4='1.066', _c5='Aten', _c6='2017-02-23')]"
      ]
     },
     "execution_count": 3,
     "metadata": {},
     "output_type": "execute_result"
    }
   ],
   "source": [
    "data.take(5)"
   ]
  },
  {
   "cell_type": "code",
   "execution_count": 4,
   "metadata": {},
   "outputs": [],
   "source": [
    "\n",
    "Asteroid_data = data.select(col(\"_c0\").alias(\"Emoid\"), col(\"_c1\").alias(\"Epoch\"), col(\"_c2\").alias(\"H\"),\n",
    "                            col(\"_c3\").alias(\"q\"),col(\"_c4\").alias(\"Q\"),col(\"_c5\").alias(\"Class\"),\n",
    "                            col(\"_c6\").alias(\"Discovery date\"))\n"
   ]
  },
  {
   "cell_type": "code",
   "execution_count": 5,
   "metadata": {},
   "outputs": [],
   "source": [
    "# Take out first row\n"
   ]
  },
  {
   "cell_type": "code",
   "execution_count": 6,
   "metadata": {},
   "outputs": [
    {
     "data": {
      "text/plain": [
       "[Row(Emoid='Emoid', Epoch='Epoch', H='H', q='q', Q='Q', Class='Class', Discovery date='Discovery date'),\n",
       " Row(Emoid='0.04968', Epoch='2017-02-16', H='25', q='0.639', Q='1.067', Class='Aten', Discovery date='2017-03-02'),\n",
       " Row(Emoid='0.00586', Epoch='2017-02-16', H='27.6', q='0.756', Q='1.24', Class='Aten', Discovery date='2017-02-27'),\n",
       " Row(Emoid='0.01912', Epoch='2017-02-16', H='27.3', q='0.81', Q='1.066', Class='Aten', Discovery date='2017-02-24'),\n",
       " Row(Emoid='0.00051', Epoch='2017-02-16', H='22.1', q='0.709', Q='1.066', Class='Aten', Discovery date='2017-02-23')]"
      ]
     },
     "execution_count": 6,
     "metadata": {},
     "output_type": "execute_result"
    }
   ],
   "source": [
    "Asteroid_data.take(5)"
   ]
  },
  {
   "cell_type": "code",
   "execution_count": 7,
   "metadata": {},
   "outputs": [
    {
     "data": {
      "text/plain": [
       "pyspark.sql.dataframe.DataFrame"
      ]
     },
     "execution_count": 7,
     "metadata": {},
     "output_type": "execute_result"
    }
   ],
   "source": [
    "type(Asteroid_data)"
   ]
  },
  {
   "cell_type": "code",
   "execution_count": 8,
   "metadata": {},
   "outputs": [
    {
     "data": {
      "text/plain": [
       "200"
      ]
     },
     "execution_count": 8,
     "metadata": {},
     "output_type": "execute_result"
    }
   ],
   "source": [
    "Asteroid_data.count()"
   ]
  },
  {
   "cell_type": "code",
   "execution_count": 9,
   "metadata": {},
   "outputs": [
    {
     "data": {
      "text/plain": [
       "7"
      ]
     },
     "execution_count": 9,
     "metadata": {},
     "output_type": "execute_result"
    }
   ],
   "source": [
    "len(Asteroid_data.columns)"
   ]
  },
  {
   "cell_type": "code",
   "execution_count": 10,
   "metadata": {},
   "outputs": [
    {
     "name": "stdout",
     "output_type": "stream",
     "text": [
      "root\n",
      " |-- Emoid: string (nullable = true)\n",
      " |-- Epoch: string (nullable = true)\n",
      " |-- H: string (nullable = true)\n",
      " |-- q: string (nullable = true)\n",
      " |-- Q: string (nullable = true)\n",
      " |-- Class: string (nullable = true)\n",
      " |-- Discovery date: string (nullable = true)\n",
      "\n"
     ]
    }
   ],
   "source": [
    "Asteroid_data.printSchema()"
   ]
  },
  {
   "cell_type": "code",
   "execution_count": 11,
   "metadata": {},
   "outputs": [
    {
     "name": "stdout",
     "output_type": "stream",
     "text": [
      "+-------+----------+----+-----+-----+-----+--------------+\n",
      "|  Emoid|     Epoch|   H|    q|    Q|Class|Discovery date|\n",
      "+-------+----------+----+-----+-----+-----+--------------+\n",
      "|  Emoid|     Epoch|   H|    q|    Q|Class|Discovery date|\n",
      "|0.04968|2017-02-16|  25|0.639|1.067| Aten|    2017-03-02|\n",
      "|0.00586|2017-02-16|27.6|0.756| 1.24| Aten|    2017-02-27|\n",
      "|0.01912|2017-02-16|27.3| 0.81|1.066| Aten|    2017-02-24|\n",
      "|0.00051|2017-02-16|22.1|0.709|1.066| Aten|    2017-02-23|\n",
      "| 0.1638|2017-02-16|22.2|0.375|1.245| Aten|    2017-02-22|\n",
      "|0.01142|2017-02-16|27.2|0.805|1.307| Aten|    2017-02-22|\n",
      "|0.01692|2017-02-16|26.8|0.314| 1.05| Aten|    2017-02-22|\n",
      "|0.00162|2017-02-16|23.9|0.629|1.025| Aten|    2017-02-15|\n",
      "|0.05146|2017-02-16|25.9|0.942|1.054| Aten|    2017-01-31|\n",
      "|0.20297|2017-02-16|22.5|0.572|1.047| Aten|    2017-01-31|\n",
      "|0.04129|2017-02-16|24.9|0.853| 1.21| Aten|    2017-01-31|\n",
      "|0.16589|2017-02-16|23.1|0.586|1.077| Aten|    2017-01-31|\n",
      "|0.00101|2017-02-16|27.3|0.633|1.377| Aten|    2017-01-30|\n",
      "| 0.1203|2017-02-16|23.9|0.713|1.279| Aten|    2017-01-28|\n",
      "|0.00933|2017-02-16|25.2|0.794|1.142| Aten|    2017-01-26|\n",
      "|0.04862|2017-02-16|21.7| 0.65|1.169| Aten|    2017-01-26|\n",
      "|0.00759|2017-02-16|27.9|0.742|1.223| Aten|    2017-01-27|\n",
      "|0.01019|2017-02-16|27.9|0.587|1.139| Aten|    2017-01-26|\n",
      "|0.01401|2017-02-16|26.1|0.678|1.177| Aten|    2017-01-26|\n",
      "+-------+----------+----+-----+-----+-----+--------------+\n",
      "only showing top 20 rows\n",
      "\n"
     ]
    }
   ],
   "source": [
    "Asteroid_data.show()"
   ]
  },
  {
   "cell_type": "markdown",
   "metadata": {},
   "source": [
    "#### Filter to Emoid  == 0"
   ]
  },
  {
   "cell_type": "code",
   "execution_count": 12,
   "metadata": {},
   "outputs": [
    {
     "data": {
      "text/plain": [
       "DataFrame[Emoid: string, Epoch: string, H: string, q: string, Q: string, Class: string, Discovery date: string]"
      ]
     },
     "metadata": {},
     "output_type": "display_data"
    },
    {
     "name": "stdout",
     "output_type": "stream",
     "text": [
      "+-------+----------+----+-----+-----+-----+--------------+\n",
      "|  Emoid|     Epoch|   H|    q|    Q|Class|Discovery date|\n",
      "+-------+----------+----+-----+-----+-----+--------------+\n",
      "|0.00003|      null|25.2| 0.39| null| null|          null|\n",
      "|0.00006|2017-02-16|26.1| 0.55|1.175| Aten|    2017-01-07|\n",
      "|0.00017|2017-02-16|28.3|0.628|1.067| Aten|    2016-09-02|\n",
      "|0.00051|2017-02-16|22.1|0.709|1.066| Aten|    2017-02-23|\n",
      "|0.00061|      null|26.1|0.564| null| null|          null|\n",
      "|0.00064|2017-02-16|23.1|0.396|1.215| Aten|    2016-10-04|\n",
      "|0.00073|      null|  28|0.699| null| null|          null|\n",
      "|0.00096|      null|21.3|0.814| null| null|          null|\n",
      "|0.00101|2017-02-16|27.3|0.633|1.377| Aten|    2017-01-30|\n",
      "|0.00115|2017-02-16|27.3|0.431|1.211| Aten|    2016-11-01|\n",
      "|0.00117|      null|26.5|0.719| null| null|          null|\n",
      "|0.00135|2017-02-16|25.3|0.773|1.326| Aten|    2016-07-05|\n",
      "|0.00144|      null|22.6| 0.67| null| null|          null|\n",
      "|0.00162|2017-02-16|23.9|0.629|1.025| Aten|    2017-02-15|\n",
      "|0.00163|2017-02-16|26.5|0.573|1.408| Aten|    2016-09-04|\n",
      "|0.00171|      null|28.3|0.803| null| null|          null|\n",
      "|0.00181|2017-02-16|28.6| 0.75|1.274| Aten|    2016-09-10|\n",
      "|0.00189|2017-02-16|28.6|0.514|1.405| Aten|    2016-11-05|\n",
      "|0.00233|      null|27.4|0.482| null| null|          null|\n",
      "|0.00285|2017-02-16|25.4|0.563|1.175| Aten|    2016-05-11|\n",
      "+-------+----------+----+-----+-----+-----+--------------+\n",
      "only showing top 20 rows\n",
      "\n"
     ]
    }
   ],
   "source": [
    "filterDF = Asteroid_data.filter(Asteroid_data.Emoid == 0).sort(Asteroid_data.Emoid)\n",
    "display(filterDF)\n",
    "filterDF.show()"
   ]
  },
  {
   "cell_type": "code",
   "execution_count": null,
   "metadata": {},
   "outputs": [],
   "source": []
  },
  {
   "cell_type": "code",
   "execution_count": null,
   "metadata": {},
   "outputs": [],
   "source": []
  }
 ],
 "metadata": {
  "kernelspec": {
   "display_name": "Python 3",
   "language": "python",
   "name": "python3"
  },
  "language_info": {
   "codemirror_mode": {
    "name": "ipython",
    "version": 3
   },
   "file_extension": ".py",
   "mimetype": "text/x-python",
   "name": "python",
   "nbconvert_exporter": "python",
   "pygments_lexer": "ipython3",
   "version": "3.6.4"
  }
 },
 "nbformat": 4,
 "nbformat_minor": 2
}
