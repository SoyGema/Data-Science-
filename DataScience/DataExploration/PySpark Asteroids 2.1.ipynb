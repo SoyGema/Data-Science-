{
 "cells": [
  {
   "cell_type": "markdown",
   "metadata": {},
   "source": [
    "## PySpark  2.1 Asteroids exploration "
   ]
  },
  {
   "cell_type": "code",
   "execution_count": 1,
   "metadata": {},
   "outputs": [],
   "source": [
    "from pyspark.sql import SparkSession\n",
    "from pyspark.sql.functions import *\n",
    "\n",
    "#import matplotlib.pyplot as plt\n",
    "#%matplotlib inline\n",
    "\n",
    "spark = SparkSession \\\n",
    "    .builder \\\n",
    "    .appName(\"Python Spark basic example\") \\\n",
    "    .config(\"spark.some.config.option\", \"some-value\") \\\n",
    "    .getOrCreate()"
   ]
  },
  {
   "cell_type": "code",
   "execution_count": 71,
   "metadata": {},
   "outputs": [
    {
     "name": "stdout",
     "output_type": "stream",
     "text": [
      "+-------+-------------------+----+-----+-----+-----+-------------------+\n",
      "|  Emoid|              Epoch|   H|   q3|   Q4|Class|     Discovery date|\n",
      "+-------+-------------------+----+-----+-----+-----+-------------------+\n",
      "|0.04968|2017-02-16 00:00:00|25.0|0.639|1.067| Aten|2017-03-02 00:00:00|\n",
      "|0.00586|2017-02-16 00:00:00|27.6|0.756| 1.24| Aten|2017-02-27 00:00:00|\n",
      "|0.01912|2017-02-16 00:00:00|27.3| 0.81|1.066| Aten|2017-02-24 00:00:00|\n",
      "| 5.1E-4|2017-02-16 00:00:00|22.1|0.709|1.066| Aten|2017-02-23 00:00:00|\n",
      "| 0.1638|2017-02-16 00:00:00|22.2|0.375|1.245| Aten|2017-02-22 00:00:00|\n",
      "|0.01142|2017-02-16 00:00:00|27.2|0.805|1.307| Aten|2017-02-22 00:00:00|\n",
      "|0.01692|2017-02-16 00:00:00|26.8|0.314| 1.05| Aten|2017-02-22 00:00:00|\n",
      "|0.00162|2017-02-16 00:00:00|23.9|0.629|1.025| Aten|2017-02-15 00:00:00|\n",
      "|0.05146|2017-02-16 00:00:00|25.9|0.942|1.054| Aten|2017-01-31 00:00:00|\n",
      "|0.20297|2017-02-16 00:00:00|22.5|0.572|1.047| Aten|2017-01-31 00:00:00|\n",
      "|0.04129|2017-02-16 00:00:00|24.9|0.853| 1.21| Aten|2017-01-31 00:00:00|\n",
      "|0.16589|2017-02-16 00:00:00|23.1|0.586|1.077| Aten|2017-01-31 00:00:00|\n",
      "|0.00101|2017-02-16 00:00:00|27.3|0.633|1.377| Aten|2017-01-30 00:00:00|\n",
      "| 0.1203|2017-02-16 00:00:00|23.9|0.713|1.279| Aten|2017-01-28 00:00:00|\n",
      "|0.00933|2017-02-16 00:00:00|25.2|0.794|1.142| Aten|2017-01-26 00:00:00|\n",
      "|0.04862|2017-02-16 00:00:00|21.7| 0.65|1.169| Aten|2017-01-26 00:00:00|\n",
      "|0.00759|2017-02-16 00:00:00|27.9|0.742|1.223| Aten|2017-01-27 00:00:00|\n",
      "|0.01019|2017-02-16 00:00:00|27.9|0.587|1.139| Aten|2017-01-26 00:00:00|\n",
      "|0.01401|2017-02-16 00:00:00|26.1|0.678|1.177| Aten|2017-01-26 00:00:00|\n",
      "|0.00929|2017-02-16 00:00:00|23.0|0.806|1.195| Aten|2017-01-22 00:00:00|\n",
      "+-------+-------------------+----+-----+-----+-----+-------------------+\n",
      "only showing top 20 rows\n",
      "\n"
     ]
    }
   ],
   "source": [
    "data = spark.read.option(\"header\",\"true\") \\\n",
    "    .option(\"inferSchema\", \"true\") \\\n",
    "    .csv(\"Data_Asteroids.csv\")\n",
    "\n",
    "data.show()"
   ]
  },
  {
   "cell_type": "code",
   "execution_count": 72,
   "metadata": {},
   "outputs": [
    {
     "name": "stdout",
     "output_type": "stream",
     "text": [
      "root\n",
      " |-- Emoid: double (nullable = true)\n",
      " |-- Epoch: timestamp (nullable = true)\n",
      " |-- H: double (nullable = true)\n",
      " |-- q3: double (nullable = true)\n",
      " |-- Q4: double (nullable = true)\n",
      " |-- Class: string (nullable = true)\n",
      " |-- Discovery date: timestamp (nullable = true)\n",
      "\n"
     ]
    }
   ],
   "source": [
    "data.printSchema()"
   ]
  },
  {
   "cell_type": "code",
   "execution_count": 54,
   "metadata": {},
   "outputs": [
    {
     "data": {
      "text/plain": [
       "[Row(_c0='Emoid', _c1='Epoch', _c2='H', _c3='q', _c4='Q', _c5='Class', _c6='Discovery date'),\n",
       " Row(_c0='0.04968', _c1='2017-02-16', _c2='25', _c3='0.639', _c4='1.067', _c5='Aten', _c6='2017-03-02'),\n",
       " Row(_c0='0.00586', _c1='2017-02-16', _c2='27.6', _c3='0.756', _c4='1.24', _c5='Aten', _c6='2017-02-27'),\n",
       " Row(_c0='0.01912', _c1='2017-02-16', _c2='27.3', _c3='0.81', _c4='1.066', _c5='Aten', _c6='2017-02-24'),\n",
       " Row(_c0='0.00051', _c1='2017-02-16', _c2='22.1', _c3='0.709', _c4='1.066', _c5='Aten', _c6='2017-02-23')]"
      ]
     },
     "execution_count": 54,
     "metadata": {},
     "output_type": "execute_result"
    }
   ],
   "source": [
    "data.take(5)"
   ]
  },
  {
   "cell_type": "code",
   "execution_count": 55,
   "metadata": {},
   "outputs": [],
   "source": [
    "\n",
    "Asteroid_data = data.select(col(\"_c0\").alias(\"Emoid\"), col(\"_c1\").alias(\"Epoch\"), col(\"_c2\").alias(\"H\"),\n",
    "                            col(\"_c3\").alias(\"q\"),col(\"_c4\").alias(\"Q\"),col(\"_c5\").alias(\"Class\"),\n",
    "                            col(\"_c6\").alias(\"Discovery date\"))\n"
   ]
  },
  {
   "cell_type": "code",
   "execution_count": 67,
   "metadata": {},
   "outputs": [],
   "source": [
    "# Take out first row\n"
   ]
  },
  {
   "cell_type": "code",
   "execution_count": 57,
   "metadata": {},
   "outputs": [
    {
     "data": {
      "text/plain": [
       "[Row(Emoid='Emoid', Epoch='Epoch', H='H', q='q', Q='Q', Class='Class', Discovery date='Discovery date'),\n",
       " Row(Emoid='0.04968', Epoch='2017-02-16', H='25', q='0.639', Q='1.067', Class='Aten', Discovery date='2017-03-02'),\n",
       " Row(Emoid='0.00586', Epoch='2017-02-16', H='27.6', q='0.756', Q='1.24', Class='Aten', Discovery date='2017-02-27'),\n",
       " Row(Emoid='0.01912', Epoch='2017-02-16', H='27.3', q='0.81', Q='1.066', Class='Aten', Discovery date='2017-02-24'),\n",
       " Row(Emoid='0.00051', Epoch='2017-02-16', H='22.1', q='0.709', Q='1.066', Class='Aten', Discovery date='2017-02-23')]"
      ]
     },
     "execution_count": 57,
     "metadata": {},
     "output_type": "execute_result"
    }
   ],
   "source": [
    "Asteroid_data.take(5)"
   ]
  },
  {
   "cell_type": "code",
   "execution_count": 58,
   "metadata": {},
   "outputs": [
    {
     "data": {
      "text/plain": [
       "pyspark.sql.dataframe.DataFrame"
      ]
     },
     "execution_count": 58,
     "metadata": {},
     "output_type": "execute_result"
    }
   ],
   "source": [
    "type(Asteroid_data)"
   ]
  },
  {
   "cell_type": "code",
   "execution_count": 59,
   "metadata": {},
   "outputs": [
    {
     "data": {
      "text/plain": [
       "200"
      ]
     },
     "execution_count": 59,
     "metadata": {},
     "output_type": "execute_result"
    }
   ],
   "source": [
    "Asteroid_data.count()"
   ]
  },
  {
   "cell_type": "code",
   "execution_count": 60,
   "metadata": {},
   "outputs": [
    {
     "data": {
      "text/plain": [
       "7"
      ]
     },
     "execution_count": 60,
     "metadata": {},
     "output_type": "execute_result"
    }
   ],
   "source": [
    "len(Asteroid_data.columns)"
   ]
  },
  {
   "cell_type": "code",
   "execution_count": 61,
   "metadata": {},
   "outputs": [
    {
     "name": "stdout",
     "output_type": "stream",
     "text": [
      "root\n",
      " |-- Emoid: string (nullable = true)\n",
      " |-- Epoch: string (nullable = true)\n",
      " |-- H: string (nullable = true)\n",
      " |-- q: string (nullable = true)\n",
      " |-- Q: string (nullable = true)\n",
      " |-- Class: string (nullable = true)\n",
      " |-- Discovery date: string (nullable = true)\n",
      "\n"
     ]
    }
   ],
   "source": [
    "Asteroid_data.printSchema()"
   ]
  },
  {
   "cell_type": "code",
   "execution_count": 63,
   "metadata": {},
   "outputs": [
    {
     "name": "stdout",
     "output_type": "stream",
     "text": [
      "+-------+----------+----+-----+-----+-----+--------------+\n",
      "|  Emoid|     Epoch|   H|    q|    Q|Class|Discovery date|\n",
      "+-------+----------+----+-----+-----+-----+--------------+\n",
      "|  Emoid|     Epoch|   H|    q|    Q|Class|Discovery date|\n",
      "|0.04968|2017-02-16|  25|0.639|1.067| Aten|    2017-03-02|\n",
      "|0.00586|2017-02-16|27.6|0.756| 1.24| Aten|    2017-02-27|\n",
      "|0.01912|2017-02-16|27.3| 0.81|1.066| Aten|    2017-02-24|\n",
      "|0.00051|2017-02-16|22.1|0.709|1.066| Aten|    2017-02-23|\n",
      "| 0.1638|2017-02-16|22.2|0.375|1.245| Aten|    2017-02-22|\n",
      "|0.01142|2017-02-16|27.2|0.805|1.307| Aten|    2017-02-22|\n",
      "|0.01692|2017-02-16|26.8|0.314| 1.05| Aten|    2017-02-22|\n",
      "|0.00162|2017-02-16|23.9|0.629|1.025| Aten|    2017-02-15|\n",
      "|0.05146|2017-02-16|25.9|0.942|1.054| Aten|    2017-01-31|\n",
      "|0.20297|2017-02-16|22.5|0.572|1.047| Aten|    2017-01-31|\n",
      "|0.04129|2017-02-16|24.9|0.853| 1.21| Aten|    2017-01-31|\n",
      "|0.16589|2017-02-16|23.1|0.586|1.077| Aten|    2017-01-31|\n",
      "|0.00101|2017-02-16|27.3|0.633|1.377| Aten|    2017-01-30|\n",
      "| 0.1203|2017-02-16|23.9|0.713|1.279| Aten|    2017-01-28|\n",
      "|0.00933|2017-02-16|25.2|0.794|1.142| Aten|    2017-01-26|\n",
      "|0.04862|2017-02-16|21.7| 0.65|1.169| Aten|    2017-01-26|\n",
      "|0.00759|2017-02-16|27.9|0.742|1.223| Aten|    2017-01-27|\n",
      "|0.01019|2017-02-16|27.9|0.587|1.139| Aten|    2017-01-26|\n",
      "|0.01401|2017-02-16|26.1|0.678|1.177| Aten|    2017-01-26|\n",
      "+-------+----------+----+-----+-----+-----+--------------+\n",
      "only showing top 20 rows\n",
      "\n"
     ]
    },
    {
     "data": {
      "text/plain": [
       "Row(Emoid='Emoid', Epoch='Epoch', H='H', q='q', Q='Q', Class='Class', Discovery date='Discovery date')"
      ]
     },
     "execution_count": 63,
     "metadata": {},
     "output_type": "execute_result"
    }
   ],
   "source": [
    "Asteroid_data.show()\n"
   ]
  },
  {
   "cell_type": "markdown",
   "metadata": {},
   "source": [
    "#### Filter to Emoid  == 0"
   ]
  },
  {
   "cell_type": "code",
   "execution_count": 12,
   "metadata": {},
   "outputs": [
    {
     "data": {
      "text/plain": [
       "DataFrame[Emoid: string, Epoch: string, H: string, q: string, Q: string, Class: string, Discovery date: string]"
      ]
     },
     "metadata": {},
     "output_type": "display_data"
    },
    {
     "name": "stdout",
     "output_type": "stream",
     "text": [
      "+-------+----------+----+-----+-----+-----+--------------+\n",
      "|  Emoid|     Epoch|   H|    q|    Q|Class|Discovery date|\n",
      "+-------+----------+----+-----+-----+-----+--------------+\n",
      "|0.00003|      null|25.2| 0.39| null| null|          null|\n",
      "|0.00006|2017-02-16|26.1| 0.55|1.175| Aten|    2017-01-07|\n",
      "|0.00017|2017-02-16|28.3|0.628|1.067| Aten|    2016-09-02|\n",
      "|0.00051|2017-02-16|22.1|0.709|1.066| Aten|    2017-02-23|\n",
      "|0.00061|      null|26.1|0.564| null| null|          null|\n",
      "|0.00064|2017-02-16|23.1|0.396|1.215| Aten|    2016-10-04|\n",
      "|0.00073|      null|  28|0.699| null| null|          null|\n",
      "|0.00096|      null|21.3|0.814| null| null|          null|\n",
      "|0.00101|2017-02-16|27.3|0.633|1.377| Aten|    2017-01-30|\n",
      "|0.00115|2017-02-16|27.3|0.431|1.211| Aten|    2016-11-01|\n",
      "|0.00117|      null|26.5|0.719| null| null|          null|\n",
      "|0.00135|2017-02-16|25.3|0.773|1.326| Aten|    2016-07-05|\n",
      "|0.00144|      null|22.6| 0.67| null| null|          null|\n",
      "|0.00162|2017-02-16|23.9|0.629|1.025| Aten|    2017-02-15|\n",
      "|0.00163|2017-02-16|26.5|0.573|1.408| Aten|    2016-09-04|\n",
      "|0.00171|      null|28.3|0.803| null| null|          null|\n",
      "|0.00181|2017-02-16|28.6| 0.75|1.274| Aten|    2016-09-10|\n",
      "|0.00189|2017-02-16|28.6|0.514|1.405| Aten|    2016-11-05|\n",
      "|0.00233|      null|27.4|0.482| null| null|          null|\n",
      "|0.00285|2017-02-16|25.4|0.563|1.175| Aten|    2016-05-11|\n",
      "+-------+----------+----+-----+-----+-----+--------------+\n",
      "only showing top 20 rows\n",
      "\n"
     ]
    }
   ],
   "source": [
    "filterDF = Asteroid_data.filter(Asteroid_data.Emoid == 0).sort(Asteroid_data.Emoid)\n",
    "display(filterDF)\n",
    "filterDF.show()"
   ]
  },
  {
   "cell_type": "markdown",
   "metadata": {},
   "source": [
    "#### Emoid :  Analysis by column"
   ]
  },
  {
   "cell_type": "code",
   "execution_count": 15,
   "metadata": {},
   "outputs": [],
   "source": [
    "COLUMN_NAME = 'Emoid'"
   ]
  },
  {
   "cell_type": "code",
   "execution_count": 20,
   "metadata": {},
   "outputs": [
    {
     "name": "stdout",
     "output_type": "stream",
     "text": [
      "+-------+\n",
      "|  Emoid|\n",
      "+-------+\n",
      "|  Emoid|\n",
      "|0.04968|\n",
      "|0.00586|\n",
      "|0.01912|\n",
      "|0.00051|\n",
      "| 0.1638|\n",
      "|0.01142|\n",
      "|0.01692|\n",
      "|0.00162|\n",
      "|0.05146|\n",
      "|0.20297|\n",
      "|0.04129|\n",
      "|0.16589|\n",
      "|0.00101|\n",
      "| 0.1203|\n",
      "|0.00933|\n",
      "|0.04862|\n",
      "|0.00759|\n",
      "|0.01019|\n",
      "|0.01401|\n",
      "+-------+\n",
      "only showing top 20 rows\n",
      "\n"
     ]
    }
   ],
   "source": [
    "Asteroid_data.select(COLUMN_NAME).show()"
   ]
  },
  {
   "cell_type": "markdown",
   "metadata": {},
   "source": [
    "#### Null count . Is this case collision type?"
   ]
  },
  {
   "cell_type": "code",
   "execution_count": 21,
   "metadata": {},
   "outputs": [
    {
     "data": {
      "text/plain": [
       "17"
      ]
     },
     "execution_count": 21,
     "metadata": {},
     "output_type": "execute_result"
    }
   ],
   "source": [
    "Asteroid_data.where(Asteroid_data[COLUMN_NAME].isNull()).count()"
   ]
  },
  {
   "cell_type": "markdown",
   "metadata": {},
   "source": [
    "#### Empty count"
   ]
  },
  {
   "cell_type": "code",
   "execution_count": 22,
   "metadata": {},
   "outputs": [
    {
     "data": {
      "text/plain": [
       "0"
      ]
     },
     "execution_count": 22,
     "metadata": {},
     "output_type": "execute_result"
    }
   ],
   "source": [
    "Asteroid_data.where(Asteroid_data[COLUMN_NAME] == \"\").count()"
   ]
  },
  {
   "cell_type": "markdown",
   "metadata": {},
   "source": [
    "#### Describe"
   ]
  },
  {
   "cell_type": "code",
   "execution_count": 24,
   "metadata": {},
   "outputs": [
    {
     "name": "stdout",
     "output_type": "stream",
     "text": [
      "+-------+--------------------+\n",
      "|summary|               Emoid|\n",
      "+-------+--------------------+\n",
      "|  count|                 183|\n",
      "|   mean|0.046208516483516454|\n",
      "| stddev| 0.05968644017598087|\n",
      "|    min|             0.00003|\n",
      "|    max|               Emoid|\n",
      "+-------+--------------------+\n",
      "\n"
     ]
    }
   ],
   "source": [
    "Asteroid_data.describe([COLUMN_NAME]).show()"
   ]
  },
  {
   "cell_type": "markdown",
   "metadata": {},
   "source": [
    "#### Value Count"
   ]
  },
  {
   "cell_type": "code",
   "execution_count": 25,
   "metadata": {},
   "outputs": [
    {
     "name": "stdout",
     "output_type": "stream",
     "text": [
      "+-------+-----+\n",
      "|  Emoid|count|\n",
      "+-------+-----+\n",
      "|0.02402|    1|\n",
      "|0.00695|    1|\n",
      "|0.07601|    1|\n",
      "|0.04866|    1|\n",
      "|0.00954|    1|\n",
      "|0.06348|    1|\n",
      "|0.20297|    1|\n",
      "|0.04068|    1|\n",
      "|0.25105|    1|\n",
      "|0.01676|    1|\n",
      "|   0.03|    1|\n",
      "|0.02965|    1|\n",
      "|0.00461|    1|\n",
      "|0.00887|    1|\n",
      "|0.00064|    1|\n",
      "|0.00117|    1|\n",
      "|0.00096|    1|\n",
      "|0.01596|    1|\n",
      "|0.08551|    1|\n",
      "|0.00814|    1|\n",
      "+-------+-----+\n",
      "only showing top 20 rows\n",
      "\n"
     ]
    }
   ],
   "source": [
    "Asteroid_data.groupBy([COLUMN_NAME]).count().show()"
   ]
  },
  {
   "cell_type": "markdown",
   "metadata": {},
   "source": [
    "#### Unique Values Count "
   ]
  },
  {
   "cell_type": "code",
   "execution_count": 26,
   "metadata": {},
   "outputs": [
    {
     "data": {
      "text/plain": [
       "180"
      ]
     },
     "execution_count": 26,
     "metadata": {},
     "output_type": "execute_result"
    }
   ],
   "source": [
    "Asteroid_data.groupBy([COLUMN_NAME]).count().count()"
   ]
  },
  {
   "cell_type": "markdown",
   "metadata": {},
   "source": [
    "#### Class :  Analysis by column"
   ]
  },
  {
   "cell_type": "code",
   "execution_count": 29,
   "metadata": {},
   "outputs": [],
   "source": [
    "COLUMN_NAME_2 = 'Class'"
   ]
  },
  {
   "cell_type": "code",
   "execution_count": 30,
   "metadata": {},
   "outputs": [
    {
     "name": "stdout",
     "output_type": "stream",
     "text": [
      "+-----+\n",
      "|Class|\n",
      "+-----+\n",
      "|Class|\n",
      "| Aten|\n",
      "| Aten|\n",
      "| Aten|\n",
      "| Aten|\n",
      "| Aten|\n",
      "| Aten|\n",
      "| Aten|\n",
      "| Aten|\n",
      "| Aten|\n",
      "| Aten|\n",
      "| Aten|\n",
      "| Aten|\n",
      "| Aten|\n",
      "| Aten|\n",
      "| Aten|\n",
      "| Aten|\n",
      "| Aten|\n",
      "| Aten|\n",
      "| Aten|\n",
      "+-----+\n",
      "only showing top 20 rows\n",
      "\n"
     ]
    }
   ],
   "source": [
    "Asteroid_data.select(COLUMN_NAME_2).show()"
   ]
  },
  {
   "cell_type": "code",
   "execution_count": 31,
   "metadata": {},
   "outputs": [
    {
     "name": "stdout",
     "output_type": "stream",
     "text": [
      "+-----+-----+\n",
      "|Class|count|\n",
      "+-----+-----+\n",
      "| Aten|   99|\n",
      "| null|  100|\n",
      "|Class|    1|\n",
      "+-----+-----+\n",
      "\n"
     ]
    }
   ],
   "source": [
    "Asteroid_data.groupBy([COLUMN_NAME_2]).count().show()"
   ]
  }
 ],
 "metadata": {
  "kernelspec": {
   "display_name": "Python 3",
   "language": "python",
   "name": "python3"
  },
  "language_info": {
   "codemirror_mode": {
    "name": "ipython",
    "version": 3
   },
   "file_extension": ".py",
   "mimetype": "text/x-python",
   "name": "python",
   "nbconvert_exporter": "python",
   "pygments_lexer": "ipython3",
   "version": "3.6.4"
  }
 },
 "nbformat": 4,
 "nbformat_minor": 2
}
